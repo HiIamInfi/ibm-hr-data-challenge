{
 "cells": [
  {
   "cell_type": "markdown",
   "id": "1308b739",
   "metadata": {},
   "source": [
    "# IBM HR Analysis\n",
    "\n",
    "## Objectives & Possible Questions\n",
    "\n",
    "- Which factors (e.g., Age, MonthlyIncome, JobRole, WorkLifeBalance, OverTime) are most associated with attrition?\n",
    "- Can we build a model to predict which employees are likely to leave within the next 6–12 months?\n",
    "- Do performance ratings correlate with attrition, and does that relationship vary by job role or tenure?\n",
    "- How does compensation (salary, stock options, percent salary hike) relate to voluntary attrition?\n",
    "- Are there observable churn patterns by department, job level, or job role?\n",
    "- Does overtime or business travel frequency increase attrition risk?\n",
    "- How does training time or number of training courses completed affect retention and performance?\n",
    "- Are there seasonal or hiring-cohort effects in attrition (e.g., hires in certain years more likely to leave)?\n",
    "- What employee segments (clusters) exist based on demographics, performance, and engagement metrics?\n",
    "- Can we identify early-warning indicators (changes in satisfaction, environment, or workload) before an employee leaves?\n",
    "- Does manager effectiveness (e.g., ManagerID patterns or team-level attrition rates) predict individual attrition?\n",
    "- How do promotion history and time-in-role affect both performance and attrition risk?\n",
    "- Are there pay inequities across gender/ethnicity that correlate with attrition or performance?\n",
    "- What is the survival curve (time-to-attrition) for different employee groups?\n",
    "- Can dimensionality reduction (PCA/UMAP) reveal structure or outliers in employee profiles?\n",
    "\n",
    "## Import Python packages\n"
   ]
  },
  {
   "cell_type": "code",
   "execution_count": 11,
   "id": "221b461e",
   "metadata": {},
   "outputs": [],
   "source": [
    "import pandas as pd\n",
    "from ydata_profiling import ProfileReport"
   ]
  },
  {
   "cell_type": "markdown",
   "id": "5cdfd1eb",
   "metadata": {},
   "source": [
    "## Import data"
   ]
  },
  {
   "cell_type": "code",
   "execution_count": 12,
   "id": "1755b300",
   "metadata": {},
   "outputs": [],
   "source": [
    "ibm_df = pd.read_csv(\"data/WA_Fn-UseC_-HR-Employee-Attrition.csv\")"
   ]
  },
  {
   "cell_type": "markdown",
   "id": "d63544e5",
   "metadata": {},
   "source": [
    "## First Look\n",
    "\n",
    "I am using ydata profiling to take a quick look at the data set"
   ]
  },
  {
   "cell_type": "code",
   "execution_count": 16,
   "id": "455e7128",
   "metadata": {},
   "outputs": [
    {
     "name": "stderr",
     "output_type": "stream",
     "text": [
      "100%|██████████| 35/35 [00:00<00:00, 633.08it/s]<00:00, 154.59it/s, Describe variable: YearsWithCurrManager]    \n",
      "Summarize dataset: 100%|██████████| 269/269 [00:13<00:00, 19.46it/s, Completed]                                               \n",
      "Generate report structure: 100%|██████████| 1/1 [00:04<00:00,  4.07s/it]\n",
      "Render HTML: 100%|██████████| 1/1 [00:03<00:00,  3.12s/it]\n",
      "Export report to file: 100%|██████████| 1/1 [00:00<00:00, 97.82it/s]\n"
     ]
    }
   ],
   "source": [
    "profile = ProfileReport(ibm_df, title=\"HR Attrittion Profile\", explorative=True)\n",
    "\n",
    "profile.to_file(\"data/hr_attrition.html\")"
   ]
  }
 ],
 "metadata": {
  "kernelspec": {
   "display_name": ".venv (3.9.10)",
   "language": "python",
   "name": "python3"
  },
  "language_info": {
   "codemirror_mode": {
    "name": "ipython",
    "version": 3
   },
   "file_extension": ".py",
   "mimetype": "text/x-python",
   "name": "python",
   "nbconvert_exporter": "python",
   "pygments_lexer": "ipython3",
   "version": "3.9.10"
  }
 },
 "nbformat": 4,
 "nbformat_minor": 5
}
